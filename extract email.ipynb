{
 "cells": [
  {
   "cell_type": "code",
   "execution_count": 8,
   "id": "76c34fba",
   "metadata": {},
   "outputs": [
    {
     "name": "stdout",
     "output_type": "stream",
     "text": [
      "all emails:  ['support@outlook.com', 'john.doe@protonmail.com.com.', 'feedback@website.org,', 'helpdesk@service.net.', 'info@icloud.com', '\"Someone@sahej.com\"']\n"
     ]
    }
   ],
   "source": [
    "phrase = '''Here's a sample corpus of email-related phrases that you could use to extract email addresses:\n",
    "\n",
    "1. Please contact us at support@outlook.com for further assistance.\n",
    "2. For any queries, you can reach out to john.doe@protonmail.com.com.\n",
    "3. Send your feedback to feedback@website.org, and we will get back to you.\n",
    "4. If you have questions, feel free to email us at helpdesk@service.net.\n",
    "5. Our team is available at info@icloud.com for any inquiries.\n",
    "6. Some of our team members who aren't a part of our organisations might find their emials invalid such as \"Someone@sahej.com\"\n",
    "\n",
    "You can extract the email addresses using basic pattern matching (like regular expressions) or text processing techniques. Would you like help with the extraction process or further customization of this corpus?'''\n",
    "\n",
    "\n",
    "def give_email(corpus):\n",
    "    word_list = []\n",
    "    word_list = corpus.split()\n",
    "    \n",
    "    # linear search\n",
    "    all_emails = []\n",
    "    for word in word_list:\n",
    "        if \"@\" in word:\n",
    "            all_emails.append(word)\n",
    "        #print(all_emails)\n",
    "    return all_emails\n",
    "            \n",
    "all_emails = give_email(phrase)\n",
    "print(\"all emails: \", all_emails)"
   ]
  },
  {
   "cell_type": "code",
   "execution_count": 9,
   "id": "8f83be6b",
   "metadata": {},
   "outputs": [
    {
     "name": "stdout",
     "output_type": "stream",
     "text": [
      "valid emails:  ['support@outlook.com', 'info@icloud.com']\n"
     ]
    }
   ],
   "source": [
    "def validate_emails(all_emails):  # this is static\n",
    "    valid_emails = [\"gmail.com\", \"yahoo.com\",\"outlook.com\", \"hotmail.com\", \"icloud.com\",\"aol.com\" ,\"protonmail.com\",\"yandex.com\" ,\"mail.com\",\"zoho.com\", \"gmx.com\",\"live.com\" ,\"comcast.net\",\"msn.com\" ,\"att.net\"    ]\n",
    "    validated_emails = []\n",
    "    \n",
    "    for word in all_emails:\n",
    "            validate = word.split(\"@\")[1]\n",
    "            #print(\"to validate: \",validate)\n",
    "            if validate in valid_emails:\n",
    "                validated_emails.append(word)\n",
    "    return validated_emails\n",
    "\n",
    "print(\"valid emails: \", validate_emails(all_emails))"
   ]
  },
  {
   "cell_type": "code",
   "execution_count": 10,
   "id": "719ae93a",
   "metadata": {},
   "outputs": [
    {
     "name": "stdout",
     "output_type": "stream",
     "text": [
      "Requirement already satisfied: dnspython in c:\\users\\excel\\anaconda3\\lib\\site-packages (2.6.1)"
     ]
    },
    {
     "name": "stderr",
     "output_type": "stream",
     "text": [
      "\n",
      "[notice] A new release of pip is available: 24.0 -> 24.2\n",
      "[notice] To update, run: python.exe -m pip install --upgrade pip\n"
     ]
    },
    {
     "name": "stdout",
     "output_type": "stream",
     "text": [
      "\n"
     ]
    }
   ],
   "source": [
    "# installing & importing DNS resolver to use in checking if the emails are valid or not without being statistically programmed to do so:\n",
    "!pip install dnspython\n",
    "import dns.resolver"
   ]
  },
  {
   "cell_type": "code",
   "execution_count": 18,
   "id": "e3359ae7",
   "metadata": {},
   "outputs": [
    {
     "name": "stdout",
     "output_type": "stream",
     "text": [
      "support@outlook.com is valid\n",
      "john.doe@protonmail.com.com. is valid\n",
      "feedback@website.org, is invalid\n",
      "helpdesk@service.net. is valid\n",
      "info@icloud.com is valid\n",
      "\"Someone@sahej.com\" is invalid\n"
     ]
    },
    {
     "name": "stderr",
     "output_type": "stream",
     "text": [
      "C:\\Users\\excel\\AppData\\Local\\Temp\\ipykernel_25460\\3330301338.py:17: DeprecationWarning: please use dns.resolver.resolve() instead\n",
      "  dns.resolver.query(domain_part, 'MX')\n"
     ]
    }
   ],
   "source": [
    "def validate_email_dynamically(email):\n",
    "  \"\"\"\n",
    "  Determines if a given email address is valid using DNS.\n",
    "\n",
    "  Args:\n",
    "    email: The email address to validate.\n",
    "\n",
    "  Returns:\n",
    "    True if the email address is valid, False otherwise.\n",
    "  \"\"\"\n",
    "\n",
    "  try:\n",
    "    # Splitting the email address into the local part and the domain part\n",
    "    local_part, domain_part = email.split('@')\n",
    "\n",
    "    # Validating the domain part (using DNS)\n",
    "    dns.resolver.query(domain_part, 'MX')\n",
    "\n",
    "    # If no exceptions were raised, the email address is considered valid\n",
    "    return True\n",
    "  \n",
    "  except (dns.resolver.NXDOMAIN, dns.resolver.Timeout, dns.resolver.NoNameservers):\n",
    "    #####print(\"invalid!\")\n",
    "    # If the domain doesn't exist, timed out, or has no nameservers, the email is invalid\n",
    "    return False\n",
    "\n",
    "\n",
    "for email in all_emails:\n",
    "   if validate_email_dynamically(email):\n",
    "    print(f\"{email} is valid\")\n",
    "   else:\n",
    "    print(f\"{email} is invalid\")\n",
    "    \n",
    "    "
   ]
  }
 ],
 "metadata": {
  "kernelspec": {
   "display_name": "Python 3 (ipykernel)",
   "language": "python",
   "name": "python3"
  },
  "language_info": {
   "codemirror_mode": {
    "name": "ipython",
    "version": 3
   },
   "file_extension": ".py",
   "mimetype": "text/x-python",
   "name": "python",
   "nbconvert_exporter": "python",
   "pygments_lexer": "ipython3",
   "version": "3.11.3"
  }
 },
 "nbformat": 4,
 "nbformat_minor": 5
}
